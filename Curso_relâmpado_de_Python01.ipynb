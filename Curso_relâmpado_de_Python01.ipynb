{
  "cells": [
    {
      "cell_type": "markdown",
      "metadata": {
        "id": "view-in-github",
        "colab_type": "text"
      },
      "source": [
        "<a href=\"https://colab.research.google.com/github/Daniel-de-Jesus/Curso-Python-para-Data-Science-e-Machine-Learning/blob/main/Curso_rel%C3%A2mpado_de_Python01.ipynb\" target=\"_parent\"><img src=\"https://colab.research.google.com/assets/colab-badge.svg\" alt=\"Open In Colab\"/></a>"
      ]
    },
    {
      "cell_type": "markdown",
      "metadata": {
        "id": "Y9wKf292uBO-"
      },
      "source": [
        "# Curso rápido de Python\n",
        "\n",
        "Descrição do autor: Por favor, note que isso não tem a intenção de ser um curso abrangente de Python ou da programação em geral. Se você não possui experiência de programação, sugiro que dê uma olhada em um outro curso de José Portilla: [Complete Python Bootcamp](https://www.udemy.com/Complete-python-bootcamp/?CouponCode=PY20).\n",
        "\n",
        "** Este notebook é apenas uma referência de código para os vídeos, não há explicações por escrito aqui **\n",
        "\n",
        "Este notebook vai apenas passar pelos tópicos básicos em ordem:\n",
        "\n",
        "* Tipos de dados\n",
        "    * Numbers\n",
        "    * Strings\n",
        "    * Printando\n",
        "    * Listas\n",
        "    * Dicionários\n",
        "    * Boleanos\n",
        "    * Tuplas\n",
        "    * Sets\n",
        "* Operadores de comparação\n",
        "* if,elif, else\n",
        "* for Loops\n",
        "* while Loops\n",
        "* range()\n",
        "* list comprehension\n",
        "* funções\n",
        "* expressões lamda\n",
        "* map e filter\n",
        "* métodos\n",
        "____"
      ]
    },
    {
      "cell_type": "markdown",
      "metadata": {
        "id": "JYwtvLCuuBPH"
      },
      "source": [
        "## Tipos de dados\n",
        "\n",
        "### Numéricos\n",
        "\n",
        "    O Python aceita cálculos diretos\n",
        "    podendo funcionar como uma caculadora."
      ]
    },
    {
      "cell_type": "code",
      "execution_count": null,
      "metadata": {
        "id": "UYDElIrLuBPI",
        "outputId": "608327b2-72b8-4b3e-819c-55bc09207fae"
      },
      "outputs": [
        {
          "data": {
            "text/plain": [
              "2"
            ]
          },
          "execution_count": 1,
          "metadata": {},
          "output_type": "execute_result"
        }
      ],
      "source": [
        "1 + 1"
      ]
    },
    {
      "cell_type": "code",
      "execution_count": null,
      "metadata": {
        "id": "pBjqsuSGuBPL",
        "outputId": "2cebaf5c-a997-4945-d054-ac81ed526601"
      },
      "outputs": [
        {
          "data": {
            "text/plain": [
              "3"
            ]
          },
          "execution_count": 2,
          "metadata": {},
          "output_type": "execute_result"
        }
      ],
      "source": [
        "1 * 3"
      ]
    },
    {
      "cell_type": "code",
      "execution_count": null,
      "metadata": {
        "id": "RPozondkuBPN",
        "outputId": "7e7c015a-7382-442c-98fb-3dae6e590637"
      },
      "outputs": [
        {
          "data": {
            "text/plain": [
              "0.5"
            ]
          },
          "execution_count": 3,
          "metadata": {},
          "output_type": "execute_result"
        }
      ],
      "source": [
        "1 / 2"
      ]
    },
    {
      "cell_type": "code",
      "execution_count": null,
      "metadata": {
        "id": "oRLPFVWguBPO",
        "outputId": "32e5e4c6-fb91-4a57-a947-54a24b9e41aa"
      },
      "outputs": [
        {
          "data": {
            "text/plain": [
              "16"
            ]
          },
          "execution_count": 4,
          "metadata": {},
          "output_type": "execute_result"
        }
      ],
      "source": [
        "2 ** 4"
      ]
    },
    {
      "cell_type": "code",
      "execution_count": null,
      "metadata": {
        "id": "-SzpJXxOuBPP",
        "outputId": "45788a4e-9c81-4caa-a7c2-e367e363aeb7"
      },
      "outputs": [
        {
          "data": {
            "text/plain": [
              "0"
            ]
          },
          "execution_count": 5,
          "metadata": {},
          "output_type": "execute_result"
        }
      ],
      "source": [
        "4 % 2"
      ]
    },
    {
      "cell_type": "code",
      "execution_count": null,
      "metadata": {
        "id": "A-WU1_czuBPQ",
        "outputId": "d29af98d-2381-471d-f97a-95ee4893928b"
      },
      "outputs": [
        {
          "data": {
            "text/plain": [
              "1"
            ]
          },
          "execution_count": 6,
          "metadata": {},
          "output_type": "execute_result"
        }
      ],
      "source": [
        "5 % 2"
      ]
    },
    {
      "cell_type": "code",
      "execution_count": null,
      "metadata": {
        "id": "K6u8de0yuBPR",
        "outputId": "fe9420be-c4e3-40a8-de1d-cff0972b0ebb"
      },
      "outputs": [
        {
          "data": {
            "text/plain": [
              "50"
            ]
          },
          "execution_count": 7,
          "metadata": {},
          "output_type": "execute_result"
        }
      ],
      "source": [
        "(2 + 3) * (5 + 5)"
      ]
    },
    {
      "cell_type": "markdown",
      "metadata": {
        "id": "FzooB6_MuBPT"
      },
      "source": [
        "### Definição de variáveis\n",
        "    Também aceita a definição e uso de variáveis,\n",
        "    importante para aplicações mais robustas e \n",
        "    funcionalidades mais avançadas da linguagem"
      ]
    },
    {
      "cell_type": "code",
      "execution_count": null,
      "metadata": {
        "collapsed": true,
        "id": "qik8ywFRuBPT"
      },
      "outputs": [],
      "source": [
        "# Não se pode iniciar uma variável com números ou carateres especais\n",
        "nome_da_variavel = 2"
      ]
    },
    {
      "cell_type": "code",
      "execution_count": null,
      "metadata": {
        "collapsed": true,
        "colab": {
          "base_uri": "https://localhost:8080/"
        },
        "id": "NraKc1ZbuBPU",
        "outputId": "eca7d6eb-c76e-42c8-bc69-c5085373a592"
      },
      "outputs": [
        {
          "output_type": "execute_result",
          "data": {
            "text/plain": [
              "5"
            ]
          },
          "metadata": {},
          "execution_count": 2
        }
      ],
      "source": [
        "x = 2\n",
        "y = 3\n",
        "z = x + y\n",
        "z"
      ]
    },
    {
      "cell_type": "markdown",
      "metadata": {
        "id": "-alXrWcKuBPY"
      },
      "source": [
        "### Strings\n",
        "    Da mesma forma, pode-se utilizar diretamente para impressão,\n",
        "    mas isto não nos trás benefícios tão contundentes\n",
        "    quanto a manipulação via variáveis"
      ]
    },
    {
      "cell_type": "code",
      "execution_count": null,
      "metadata": {
        "id": "5u0pFuekuBPY",
        "outputId": "ee6ea813-fd9c-4c65-e4c1-7455542b6155"
      },
      "outputs": [
        {
          "data": {
            "text/plain": [
              "'Citação simples'"
            ]
          },
          "execution_count": 3,
          "metadata": {},
          "output_type": "execute_result"
        }
      ],
      "source": [
        "'Citação simples'"
      ]
    },
    {
      "cell_type": "code",
      "execution_count": null,
      "metadata": {
        "id": "3OErs-NduBPZ",
        "outputId": "efe4757e-4ae6-4ec0-9b87-33d9463f3de6"
      },
      "outputs": [
        {
          "data": {
            "text/plain": [
              "'Citações duplas'"
            ]
          },
          "execution_count": 4,
          "metadata": {},
          "output_type": "execute_result"
        }
      ],
      "source": [
        "\"Citações duplas\""
      ]
    },
    {
      "cell_type": "markdown",
      "metadata": {
        "id": "iLd0kELZuBPa"
      },
      "source": [
        "### Printando\n",
        "    O processo de entrada e saída do programa é de central importância\n",
        "    Isto pode ser feito através do uso da função:\n",
        "    print()\n",
        "    É muito importante o uso da string formatada\n",
        "    string_formatada=2\n",
        "    print(f'Essa é uma string formatada: {string_formatada}')\n",
        "\n",
        "###Para visualizar um valor estocado em uma variável podemos:\n",
        "    Chamar a variável simplesmente executando-a na célula no notebook.\n",
        "    Utilizar a função print(variável)\n",
        "\n",
        "  Os exemplos abaixo ilustram os dois casos citados"
      ]
    },
    {
      "cell_type": "code",
      "execution_count": null,
      "metadata": {
        "collapsed": true,
        "id": "Us30hWWzuBPb"
      },
      "outputs": [],
      "source": [
        "x = 'ola'"
      ]
    },
    {
      "cell_type": "code",
      "execution_count": null,
      "metadata": {
        "id": "CBeLtJMluBPb",
        "outputId": "5564a1df-15ed-4a70-a610-7bc6f39290e6"
      },
      "outputs": [
        {
          "data": {
            "text/plain": [
              "'ola'"
            ]
          },
          "execution_count": 6,
          "metadata": {},
          "output_type": "execute_result"
        }
      ],
      "source": [
        "x"
      ]
    },
    {
      "cell_type": "code",
      "execution_count": null,
      "metadata": {
        "id": "F12URrNWuBPc",
        "outputId": "66c7f2ad-7a9b-4b53-dbdd-287abdd291f9"
      },
      "outputs": [
        {
          "name": "stdout",
          "output_type": "stream",
          "text": [
            "ola\n"
          ]
        }
      ],
      "source": [
        "print(x)"
      ]
    },
    {
      "cell_type": "code",
      "execution_count": null,
      "metadata": {
        "collapsed": true,
        "id": "jBJnKViJuBPc"
      },
      "outputs": [],
      "source": [
        "num = 12\n",
        "nome = 'Sam'"
      ]
    },
    {
      "cell_type": "code",
      "execution_count": null,
      "metadata": {
        "id": "gjdhPPnzuBPd",
        "outputId": "ebfc2eaa-3199-48d2-b3de-77cc67891d70"
      },
      "outputs": [
        {
          "name": "stdout",
          "output_type": "stream",
          "text": [
            "Meu número é: 12, e meu nome é: Sam\n"
          ]
        }
      ],
      "source": [
        "#Jeito antigo da string formatada\n",
        "\n",
        "print('Meu número é: {one}, e meu nome é: {two}'.format(one=num,two=nome))"
      ]
    },
    {
      "cell_type": "code",
      "source": [
        "#String formatada\n",
        "\n",
        "string_formatada= 'Vida'\n",
        "print(f'Essa é uma string formatada: {string_formatada}')"
      ],
      "metadata": {
        "colab": {
          "base_uri": "https://localhost:8080/"
        },
        "id": "d3rB498jwP8M",
        "outputId": "397466ea-2ca0-42f8-9f56-2736c2cb08e0"
      },
      "execution_count": null,
      "outputs": [
        {
          "output_type": "stream",
          "name": "stdout",
          "text": [
            "Essa é uma string formatada: Vida\n"
          ]
        }
      ]
    },
    {
      "cell_type": "markdown",
      "metadata": {
        "id": "fHCjKxnzuBPe"
      },
      "source": [
        "### Listas\n",
        "  São objetos muito importantes da linguagem\n",
        "  fáceis de serem manipulados, convertidos, estocados(...)\n",
        "  Uma das facilidades do uso de listas está no processo\n",
        "  de slice e list_comprehension do python, uma outra\n",
        "  facilidade está no fato da lista aceitar quaisquer\n",
        "  tipos de variáveis."
      ]
    },
    {
      "cell_type": "code",
      "execution_count": null,
      "metadata": {
        "colab": {
          "base_uri": "https://localhost:8080/"
        },
        "id": "u7R93kzouBPe",
        "outputId": "aa3c3110-a4b2-4814-94b4-81cbd61ed475"
      },
      "outputs": [
        {
          "output_type": "execute_result",
          "data": {
            "text/plain": [
              "[1, 2, 3]"
            ]
          },
          "metadata": {},
          "execution_count": 7
        }
      ],
      "source": [
        "#Uso direto de listas\n",
        "[1,2,3]"
      ]
    },
    {
      "cell_type": "code",
      "execution_count": null,
      "metadata": {
        "colab": {
          "base_uri": "https://localhost:8080/"
        },
        "id": "KEUhDpPEuBPe",
        "outputId": "8fd2ca46-5d22-434a-9afe-8f83f6bba83f"
      },
      "outputs": [
        {
          "output_type": "execute_result",
          "data": {
            "text/plain": [
              "['hi', 1, [1, 2]]"
            ]
          },
          "metadata": {},
          "execution_count": 8
        }
      ],
      "source": [
        "['hi',1,[1,2]]"
      ]
    },
    {
      "cell_type": "code",
      "execution_count": null,
      "metadata": {
        "collapsed": true,
        "colab": {
          "base_uri": "https://localhost:8080/"
        },
        "id": "7b3OZjWJuBPf",
        "outputId": "e1229817-60e8-4970-c7ac-ddbb5b9dc128"
      },
      "outputs": [
        {
          "output_type": "execute_result",
          "data": {
            "text/plain": [
              "['a', 'b', 'c', 'd']"
            ]
          },
          "metadata": {},
          "execution_count": 27
        }
      ],
      "source": [
        "#estocagem em variaveis\n",
        "\n",
        "minha_lista = ['a','b','c']\n",
        "\n",
        "#Colocando um valor no fim da lista\n",
        "#objeto .append(novo_valor)\n",
        "\n",
        "minha_lista.append('d')\n",
        "minha_lista"
      ]
    },
    {
      "cell_type": "code",
      "execution_count": null,
      "metadata": {
        "colab": {
          "base_uri": "https://localhost:8080/",
          "height": 34
        },
        "id": "lAS4rxrKuBPg",
        "outputId": "21356df8-4ace-4295-8868-9421f58fed01"
      },
      "outputs": [
        {
          "output_type": "execute_result",
          "data": {
            "text/plain": [
              "'a'"
            ],
            "application/vnd.google.colaboratory.intrinsic+json": {
              "type": "string"
            }
          },
          "metadata": {},
          "execution_count": 12
        }
      ],
      "source": [
        "#selecao por posicao\n",
        "#nome_da_lista[posicao]\n",
        "#posicao varia de  a n, n eh o tamanho da lista\n",
        "\n",
        "minha_lista[0]"
      ]
    },
    {
      "cell_type": "code",
      "execution_count": null,
      "metadata": {
        "colab": {
          "base_uri": "https://localhost:8080/",
          "height": 34
        },
        "id": "gEdkNsNYuBPg",
        "outputId": "1d5dac16-d8de-46c9-9d2d-5f58b2515d91"
      },
      "outputs": [
        {
          "output_type": "execute_result",
          "data": {
            "text/plain": [
              "'b'"
            ],
            "application/vnd.google.colaboratory.intrinsic+json": {
              "type": "string"
            }
          },
          "metadata": {},
          "execution_count": 13
        }
      ],
      "source": [
        "minha_lista[1]"
      ]
    },
    {
      "cell_type": "code",
      "execution_count": null,
      "metadata": {
        "colab": {
          "base_uri": "https://localhost:8080/"
        },
        "id": "DtQgvzoZuBPh",
        "outputId": "fc4a03ef-5782-4b8b-cc44-ac79a9d0778f"
      },
      "outputs": [
        {
          "output_type": "execute_result",
          "data": {
            "text/plain": [
              "['b', 'c', 'd']"
            ]
          },
          "metadata": {},
          "execution_count": 15
        }
      ],
      "source": [
        "#Slice\n",
        "#pode-se selecionar atravez do processo de varredura\n",
        "#com o slice\n",
        "#sintaxe----->>>>>>       nome_da_lista[a partir de : ate]\n",
        "# No caso abaixo, o programa retornara os valores da posicao 1 em diante\n",
        "#segundo termo da lista em diante\n",
        "\n",
        "\n",
        "minha_lista[1:]"
      ]
    },
    {
      "cell_type": "code",
      "execution_count": null,
      "metadata": {
        "colab": {
          "base_uri": "https://localhost:8080/"
        },
        "id": "9B5DNPTXuBPh",
        "outputId": "b271f093-0afb-4d0f-e9c6-fc4407647170"
      },
      "outputs": [
        {
          "output_type": "execute_result",
          "data": {
            "text/plain": [
              "['a']"
            ]
          },
          "metadata": {},
          "execution_count": 16
        }
      ],
      "source": [
        "#No caso abaixo, o programa retornara os valores ate a posicao 1, intervalo aberto\n",
        "\n",
        "minha_lista[:1]"
      ]
    },
    {
      "cell_type": "code",
      "execution_count": null,
      "metadata": {
        "collapsed": true,
        "colab": {
          "base_uri": "https://localhost:8080/"
        },
        "id": "pwuKX6hUuBPh",
        "outputId": "a4bde551-d3e6-4977-ddd6-2dd7692175b9"
      },
      "outputs": [
        {
          "output_type": "execute_result",
          "data": {
            "text/plain": [
              "['NOVO', 'b', 'c', 'd']"
            ]
          },
          "metadata": {},
          "execution_count": 20
        }
      ],
      "source": [
        "#Listas podem guardar qualquer tipo de variavel\n",
        "#type(lista)= list------ type(lista[i])= str, float, int, bool (...formatos particulares)\n",
        "#diferentes tipos podem ser adicionados a uma mesma lista\n",
        "\n",
        "#abaixo, o valor da posicao 0- primeiro termo- e alterado\n",
        "\n",
        "minha_lista[0] = 'NOVO'\n",
        "minha_lista"
      ]
    },
    {
      "cell_type": "code",
      "execution_count": null,
      "metadata": {
        "collapsed": true,
        "colab": {
          "base_uri": "https://localhost:8080/"
        },
        "id": "8DcIfFDjuBPi",
        "outputId": "230b7e97-1a6f-4a31-8771-54d4786a6494"
      },
      "outputs": [
        {
          "output_type": "execute_result",
          "data": {
            "text/plain": [
              "[4, 5, ['target']]"
            ]
          },
          "metadata": {},
          "execution_count": 21
        }
      ],
      "source": [
        "#O formato lista aceita ate mesmo a lista como entrada\n",
        "\n",
        "nest = [1,2,3,[4,5,['target']]]\n",
        "nest[3]"
      ]
    },
    {
      "cell_type": "code",
      "execution_count": null,
      "metadata": {
        "colab": {
          "base_uri": "https://localhost:8080/"
        },
        "id": "hgfq66tVuBPj",
        "outputId": "61fc2419-c97c-406d-a792-872b8e535441"
      },
      "outputs": [
        {
          "output_type": "execute_result",
          "data": {
            "text/plain": [
              "['target']"
            ]
          },
          "metadata": {},
          "execution_count": 24
        }
      ],
      "source": [
        "#assim, pode-se localizar as posicoes das listas dentro das listas\n",
        "\n",
        "nest[3][2]"
      ]
    },
    {
      "cell_type": "code",
      "execution_count": null,
      "metadata": {
        "colab": {
          "base_uri": "https://localhost:8080/",
          "height": 34
        },
        "id": "G2MlVpOWuBPj",
        "outputId": "00874a4c-b418-49fb-eb04-a1253783da0f"
      },
      "outputs": [
        {
          "output_type": "execute_result",
          "data": {
            "text/plain": [
              "'target'"
            ],
            "application/vnd.google.colaboratory.intrinsic+json": {
              "type": "string"
            }
          },
          "metadata": {},
          "execution_count": 25
        }
      ],
      "source": [
        "nest[3][2][0]"
      ]
    },
    {
      "cell_type": "code",
      "source": [
        "# O TIPO STRING PODE SER VARRIDO COMO UMA LISTA!!!\n",
        "print(f' Primeira letra de {nest[3][2][0]} e´: {nest[3][2][0][0]}, a última letra é :{nest[3][2][0][-1]}, mas ainda tem as letras: {nest[3][2][0][1:-1]}')"
      ],
      "metadata": {
        "colab": {
          "base_uri": "https://localhost:8080/"
        },
        "id": "e4l0gI9Q1xlQ",
        "outputId": "9beb1e5d-4674-4f0f-eaa6-d00e76cf23b1"
      },
      "execution_count": null,
      "outputs": [
        {
          "output_type": "stream",
          "name": "stdout",
          "text": [
            " Primeira letra de target e´: t, a última letra é :t, mas ainda tem as letras: arge\n"
          ]
        }
      ]
    },
    {
      "cell_type": "markdown",
      "metadata": {
        "id": "h6_gA3JKuBPk"
      },
      "source": [
        "### Dicionários\n",
        "  São estruturas mais complexas que listas,\n",
        "  Seus termos podem estar agrupados em colunas, itens,\n",
        "  chaves(...)\n",
        "  São muito importantes durante a criação, uso e \n",
        "  manipulação de DataFrames com o Pandas."
      ]
    },
    {
      "cell_type": "code",
      "execution_count": null,
      "metadata": {
        "collapsed": true,
        "colab": {
          "base_uri": "https://localhost:8080/"
        },
        "id": "oCo67-C2uBPk",
        "outputId": "7c8de511-b5b1-42e4-913f-629e2ef41c53"
      },
      "outputs": [
        {
          "output_type": "execute_result",
          "data": {
            "text/plain": [
              "{'chave1': 'item1', 'chave2': 'item2'}"
            ]
          },
          "metadata": {},
          "execution_count": 55
        }
      ],
      "source": [
        "d = {'chave1':'item1','chave2':'item2'}\n",
        "d"
      ]
    },
    {
      "cell_type": "code",
      "execution_count": null,
      "metadata": {
        "colab": {
          "base_uri": "https://localhost:8080/",
          "height": 34
        },
        "id": "arjrEohmuBPk",
        "outputId": "c7aa3359-a0d9-4704-9237-409562185ee8"
      },
      "outputs": [
        {
          "output_type": "execute_result",
          "data": {
            "text/plain": [
              "'item1'"
            ],
            "application/vnd.google.colaboratory.intrinsic+json": {
              "type": "string"
            }
          },
          "metadata": {},
          "execution_count": 56
        }
      ],
      "source": [
        "d['chave1']"
      ]
    },
    {
      "cell_type": "markdown",
      "metadata": {
        "id": "ZEC-DrpHuBPl"
      },
      "source": [
        "### Booleanos\n",
        "  São valores lógicos, que podem ser inseridos no\n",
        "  programa ou simplesmente serem resultados de uma \n",
        "  operação lógica por proposição.\n",
        "  Como todas operação lógica, os valores possíveis são:\n",
        "  'True' e 'False'."
      ]
    },
    {
      "cell_type": "code",
      "execution_count": null,
      "metadata": {
        "colab": {
          "base_uri": "https://localhost:8080/"
        },
        "id": "bMB4Ql6euBPl",
        "outputId": "7ee9cd85-3318-4e3d-a1fd-84e59490e59b"
      },
      "outputs": [
        {
          "output_type": "execute_result",
          "data": {
            "text/plain": [
              "True"
            ]
          },
          "metadata": {},
          "execution_count": 57
        }
      ],
      "source": [
        "True"
      ]
    },
    {
      "cell_type": "code",
      "execution_count": null,
      "metadata": {
        "colab": {
          "base_uri": "https://localhost:8080/"
        },
        "id": "o0ZSHONFuBPm",
        "outputId": "c38137f5-c323-4df7-ffbd-976b6978a3f3"
      },
      "outputs": [
        {
          "output_type": "execute_result",
          "data": {
            "text/plain": [
              "False"
            ]
          },
          "metadata": {},
          "execution_count": 58
        }
      ],
      "source": [
        "False"
      ]
    },
    {
      "cell_type": "code",
      "source": [
        "x=2\n",
        "y=3\n",
        "#comparacao entre x e y\n",
        "z= (x==y) # x e igual a y?\n",
        "w= (x!=y)\n",
        "print(f' {x} é igual a {y}: {z}, {x} é diferente de {y}: {w}')"
      ],
      "metadata": {
        "colab": {
          "base_uri": "https://localhost:8080/"
        },
        "id": "K0-TpSIs3y9P",
        "outputId": "bdbcae4d-1652-4055-e705-1797ea99ba6b"
      },
      "execution_count": null,
      "outputs": [
        {
          "output_type": "stream",
          "name": "stdout",
          "text": [
            " 2 é igual a 3: False, 2 é diferente de 3: True\n"
          ]
        }
      ]
    },
    {
      "cell_type": "markdown",
      "metadata": {
        "id": "xDtsz4-JuBPm"
      },
      "source": [
        "### Tuplas\n",
        "  Podem ser entendidas como listas imutáveis.\n",
        "  Devem ser utilizadas quando os dados armazenados\n",
        "  não podem ser alterados."
      ]
    },
    {
      "cell_type": "code",
      "execution_count": null,
      "metadata": {
        "collapsed": true,
        "colab": {
          "base_uri": "https://localhost:8080/"
        },
        "id": "6di9hUzeuBPm",
        "outputId": "ceadf3f7-0712-4b4c-9885-e1820f17c699"
      },
      "outputs": [
        {
          "output_type": "execute_result",
          "data": {
            "text/plain": [
              "1"
            ]
          },
          "metadata": {},
          "execution_count": 60
        }
      ],
      "source": [
        "t = (1,2,3)\n",
        "t[0]"
      ]
    },
    {
      "cell_type": "code",
      "execution_count": null,
      "metadata": {
        "colab": {
          "base_uri": "https://localhost:8080/",
          "height": 200
        },
        "id": "jYXb0A27uBPn",
        "outputId": "df0c3508-5df7-4fe7-9020-d8c0d42e57f2"
      },
      "outputs": [
        {
          "output_type": "error",
          "ename": "TypeError",
          "evalue": "ignored",
          "traceback": [
            "\u001b[0;31m---------------------------------------------------------------------------\u001b[0m",
            "\u001b[0;31mTypeError\u001b[0m                                 Traceback (most recent call last)",
            "\u001b[0;32m<ipython-input-61-8ae1cf0f12b2>\u001b[0m in \u001b[0;36m<module>\u001b[0;34m()\u001b[0m\n\u001b[1;32m      1\u001b[0m \u001b[0;31m#erro ao tentar-se alterar o valor estocado na tupla\u001b[0m\u001b[0;34m\u001b[0m\u001b[0;34m\u001b[0m\u001b[0;34m\u001b[0m\u001b[0m\n\u001b[1;32m      2\u001b[0m \u001b[0;34m\u001b[0m\u001b[0m\n\u001b[0;32m----> 3\u001b[0;31m \u001b[0mt\u001b[0m\u001b[0;34m[\u001b[0m\u001b[0;36m0\u001b[0m\u001b[0;34m]\u001b[0m \u001b[0;34m=\u001b[0m \u001b[0;34m'NEW'\u001b[0m\u001b[0;34m\u001b[0m\u001b[0;34m\u001b[0m\u001b[0m\n\u001b[0m",
            "\u001b[0;31mTypeError\u001b[0m: 'tuple' object does not support item assignment"
          ]
        }
      ],
      "source": [
        "#erro ao tentar-se alterar o valor estocado na tupla\n",
        "\n",
        "t[0] = 'NEW'"
      ]
    },
    {
      "cell_type": "markdown",
      "metadata": {
        "id": "xtf7qPS9uBPn"
      },
      "source": [
        "### Sets\n",
        "  Uma estrutura que não é muito utilizada na prática,\n",
        "  basicamente resume os dados unicos presentes ignorando\n",
        "  a configuração, ordem, ou disposição dos termos.\n",
        "  OBS.: semelhante à função .unique() do Pandas"
      ]
    },
    {
      "cell_type": "code",
      "execution_count": null,
      "metadata": {
        "colab": {
          "base_uri": "https://localhost:8080/"
        },
        "id": "H1pxZyd1uBPo",
        "outputId": "948c9da8-37a6-430f-ea6b-8ff5f5bbdedf"
      },
      "outputs": [
        {
          "output_type": "execute_result",
          "data": {
            "text/plain": [
              "{1, 2, 3}"
            ]
          },
          "metadata": {},
          "execution_count": 62
        }
      ],
      "source": [
        "{1,2,3}"
      ]
    },
    {
      "cell_type": "code",
      "execution_count": null,
      "metadata": {
        "colab": {
          "base_uri": "https://localhost:8080/"
        },
        "id": "6JuMOlxCuBPo",
        "outputId": "764f0aef-d7bd-4417-d44c-603baf0800aa"
      },
      "outputs": [
        {
          "output_type": "execute_result",
          "data": {
            "text/plain": [
              "{1, 2, 3}"
            ]
          },
          "metadata": {},
          "execution_count": 63
        }
      ],
      "source": [
        "{1,2,3,1,2,1,2,3,3,3,3,2,2,2,1,1,2}"
      ]
    },
    {
      "cell_type": "markdown",
      "metadata": {
        "id": "wJncNTLpuBPo"
      },
      "source": [
        "## Operadores lógicos/ de comparação\n",
        "  Tem como resultado variáveis tipo booleanas, como \n",
        "  discutido anteriormente."
      ]
    },
    {
      "cell_type": "code",
      "execution_count": null,
      "metadata": {
        "colab": {
          "base_uri": "https://localhost:8080/"
        },
        "id": "ZVXLcRt1uBPp",
        "outputId": "83cd0237-1dec-44c8-af0d-e7b49eed89e9"
      },
      "outputs": [
        {
          "output_type": "execute_result",
          "data": {
            "text/plain": [
              "False"
            ]
          },
          "metadata": {},
          "execution_count": 64
        }
      ],
      "source": [
        "1 > 2"
      ]
    },
    {
      "cell_type": "code",
      "execution_count": null,
      "metadata": {
        "colab": {
          "base_uri": "https://localhost:8080/"
        },
        "id": "6ALlLVMwuBPp",
        "outputId": "9ac9b2fe-7f27-4dc0-f62b-67c4f34d40a1"
      },
      "outputs": [
        {
          "output_type": "execute_result",
          "data": {
            "text/plain": [
              "True"
            ]
          },
          "metadata": {},
          "execution_count": 65
        }
      ],
      "source": [
        "1 < 2"
      ]
    },
    {
      "cell_type": "code",
      "execution_count": null,
      "metadata": {
        "colab": {
          "base_uri": "https://localhost:8080/"
        },
        "id": "qbf7OX4ZuBPp",
        "outputId": "88278643-ce05-4d83-ad1e-6c2d95b9e5c3"
      },
      "outputs": [
        {
          "output_type": "execute_result",
          "data": {
            "text/plain": [
              "True"
            ]
          },
          "metadata": {},
          "execution_count": 66
        }
      ],
      "source": [
        "1 >= 1"
      ]
    },
    {
      "cell_type": "code",
      "execution_count": null,
      "metadata": {
        "colab": {
          "base_uri": "https://localhost:8080/"
        },
        "id": "MjkSjdW-uBPq",
        "outputId": "958ca89d-3f68-40ea-a595-6e58970bbbf6"
      },
      "outputs": [
        {
          "output_type": "execute_result",
          "data": {
            "text/plain": [
              "True"
            ]
          },
          "metadata": {},
          "execution_count": 67
        }
      ],
      "source": [
        "1 <= 4"
      ]
    },
    {
      "cell_type": "code",
      "execution_count": null,
      "metadata": {
        "colab": {
          "base_uri": "https://localhost:8080/"
        },
        "id": "V5rED6nCuBPq",
        "outputId": "44f71841-a389-4cff-d398-cf16eebf2674"
      },
      "outputs": [
        {
          "output_type": "execute_result",
          "data": {
            "text/plain": [
              "True"
            ]
          },
          "metadata": {},
          "execution_count": 68
        }
      ],
      "source": [
        "1 == 1"
      ]
    },
    {
      "cell_type": "code",
      "execution_count": null,
      "metadata": {
        "colab": {
          "base_uri": "https://localhost:8080/"
        },
        "id": "O1p1JSHPuBPq",
        "outputId": "f86a806d-2881-40f8-be6d-3cc82dee5d0f"
      },
      "outputs": [
        {
          "output_type": "execute_result",
          "data": {
            "text/plain": [
              "False"
            ]
          },
          "metadata": {},
          "execution_count": 69
        }
      ],
      "source": [
        "'oi' == 'tchau'"
      ]
    },
    {
      "cell_type": "markdown",
      "metadata": {
        "id": "EKq7_pKLuBPq"
      },
      "source": [
        "## Operadores lógicos\n",
        "\n",
        "  São junções/disjunções entre as expressões de comparação.\n",
        "  \n",
        "  Serão utilizados para se verificar as condições em estruturas de repetição.\n",
        "\n",
        "___\n",
        "___\n",
        "  ou | or\n",
        "___\n",
        "  e  | and\n",
        "  ___\n",
        "  ___"
      ]
    },
    {
      "cell_type": "code",
      "execution_count": null,
      "metadata": {
        "colab": {
          "base_uri": "https://localhost:8080/"
        },
        "id": "e5vgRItBuBPr",
        "outputId": "0c3717b9-c368-4314-8c39-9c8052b9cc0b"
      },
      "outputs": [
        {
          "output_type": "execute_result",
          "data": {
            "text/plain": [
              "False"
            ]
          },
          "metadata": {},
          "execution_count": 70
        }
      ],
      "source": [
        "(1 > 2) and (2 < 3)"
      ]
    },
    {
      "cell_type": "code",
      "execution_count": null,
      "metadata": {
        "colab": {
          "base_uri": "https://localhost:8080/"
        },
        "id": "cTXRWEcnuBPr",
        "outputId": "77590377-ee68-408b-d9c0-1af16273c6e4"
      },
      "outputs": [
        {
          "output_type": "execute_result",
          "data": {
            "text/plain": [
              "True"
            ]
          },
          "metadata": {},
          "execution_count": 71
        }
      ],
      "source": [
        "(1 > 2) or (2 < 3)"
      ]
    },
    {
      "cell_type": "code",
      "execution_count": null,
      "metadata": {
        "colab": {
          "base_uri": "https://localhost:8080/"
        },
        "id": "cQpef10puBPr",
        "outputId": "81024e38-e0e6-43bb-b83c-55c308fdb201"
      },
      "outputs": [
        {
          "output_type": "execute_result",
          "data": {
            "text/plain": [
              "True"
            ]
          },
          "metadata": {},
          "execution_count": 72
        }
      ],
      "source": [
        "(1 == 2) or (2 == 3) or (4 == 4)"
      ]
    },
    {
      "cell_type": "markdown",
      "metadata": {
        "id": "7M1p32YQuBPr"
      },
      "source": [
        "##Estruturas de repetição\n",
        "###....if,elif, else\n",
        "  \n",
        "  Estrutura(condição):\n",
        "\n",
        "    argumentos/funções/procedimentos\n",
        "\n",
        "  A identação marca o fim da estrutura de repetição"
      ]
    },
    {
      "cell_type": "code",
      "execution_count": null,
      "metadata": {
        "colab": {
          "base_uri": "https://localhost:8080/"
        },
        "id": "gbimXWB8uBPr",
        "outputId": "102e84c5-058f-4736-c5ce-a95462c3cc06"
      },
      "outputs": [
        {
          "output_type": "stream",
          "name": "stdout",
          "text": [
            "Sim!\n"
          ]
        }
      ],
      "source": [
        "#Estrutura if\n",
        "#so executa quando a assercao for verdadeira\n",
        "\n",
        "if 1 < 2:\n",
        "    print('Sim!')"
      ]
    },
    {
      "cell_type": "code",
      "execution_count": null,
      "metadata": {
        "colab": {
          "base_uri": "https://localhost:8080/"
        },
        "id": "IyIoOSVfuBPs",
        "outputId": "48202957-eef5-4637-bc45-e3fd43c8a93e"
      },
      "outputs": [
        {
          "output_type": "stream",
          "name": "stdout",
          "text": [
            "Primeiro\n"
          ]
        }
      ],
      "source": [
        "#if composto: if-else\n",
        "  \n",
        "  #executa a primeira instrucao se a condicao for verdadeira\n",
        "  #(dentro do if)\n",
        "\n",
        "if 1 < 2:\n",
        "    print('Primeiro')\n",
        "\n",
        "  #executa a segunda instrucao se a condicao for falsa\n",
        "  #(dentro do else)\n",
        "\n",
        "else:\n",
        "    print('Último')"
      ]
    },
    {
      "cell_type": "code",
      "execution_count": null,
      "metadata": {
        "colab": {
          "base_uri": "https://localhost:8080/"
        },
        "id": "YlMTK1IVuBPs",
        "outputId": "d77b773e-7d49-4044-9830-9e4b55f9d862"
      },
      "outputs": [
        {
          "output_type": "stream",
          "name": "stdout",
          "text": [
            "Último\n"
          ]
        }
      ],
      "source": [
        "#OBS.:\n",
        "\n",
        "#o if sempre e executado quando a condicao e atendida\n",
        "#mesmo que outro if tenha vindo primeiro\n",
        "\n",
        "if 1 > 2:\n",
        "    print('Primeiro')\n",
        "else:\n",
        "    print('Último')"
      ]
    },
    {
      "cell_type": "code",
      "execution_count": null,
      "metadata": {
        "colab": {
          "base_uri": "https://localhost:8080/"
        },
        "id": "_5Xpr5PYuBPt",
        "outputId": "b0bafa63-600d-47eb-a6da-161cc5533a84"
      },
      "outputs": [
        {
          "output_type": "stream",
          "name": "stdout",
          "text": [
            "Primeiro\n"
          ]
        }
      ],
      "source": [
        "#elif --> ainda se\n",
        "#as instrucoes nao executadas dentro do elif\n",
        "#neste caso, nao sera impresso meio ou estocado 'hoje' na variavel\n",
        "#mesmo que a condicao tenha sido atendida\n",
        "\n",
        "amanha= 'hoje'\n",
        "if 1 < 2:\n",
        "   print('Primeiro')\n",
        "elif 3 == 3:\n",
        "  amanha= 'amanha'\n",
        "  print('Meio')\n",
        "else:\n",
        "    print('Último')"
      ]
    },
    {
      "cell_type": "code",
      "source": [
        "#elif nao executado\n",
        "#nao estocou 'amanha' na variavel amanha\n",
        "print(amanha=='amanha')\n"
      ],
      "metadata": {
        "colab": {
          "base_uri": "https://localhost:8080/"
        },
        "id": "l01k2om99k7y",
        "outputId": "90cd80b5-cd9f-4fe4-9290-ea2c8f4389eb"
      },
      "execution_count": null,
      "outputs": [
        {
          "output_type": "stream",
          "name": "stdout",
          "text": [
            "False\n"
          ]
        }
      ]
    },
    {
      "cell_type": "code",
      "source": [
        "#com o if, as duas instrucoes serao executadas\n",
        "#os dois valores serao impressos na tela\n",
        "amanha= 'hoje'\n",
        "if 1 < 2:\n",
        "   print('Primeiro')\n",
        "if 3 == 3:\n",
        "  amanha= 'amanha'\n",
        "  print('Meio')\n",
        "else:\n",
        "    print('Último')"
      ],
      "metadata": {
        "colab": {
          "base_uri": "https://localhost:8080/"
        },
        "id": "b0NUu0Tt-wY7",
        "outputId": "13f6ca4e-9260-42b8-fa7d-b40875e86a10"
      },
      "execution_count": null,
      "outputs": [
        {
          "output_type": "stream",
          "name": "stdout",
          "text": [
            "Primeiro\n",
            "Meio\n"
          ]
        }
      ]
    },
    {
      "cell_type": "code",
      "source": [
        "#if executado\n",
        "#estocou 'amanha' na variavel amanha\n",
        "print(amanha=='amanha')"
      ],
      "metadata": {
        "colab": {
          "base_uri": "https://localhost:8080/"
        },
        "id": "ipPWKthj_pT6",
        "outputId": "427bf386-5d32-429b-8e37-a47308518eaa"
      },
      "execution_count": null,
      "outputs": [
        {
          "output_type": "stream",
          "name": "stdout",
          "text": [
            "True\n"
          ]
        }
      ]
    },
    {
      "cell_type": "markdown",
      "metadata": {
        "id": "49WkkxQkuBPt"
      },
      "source": [
        "## for Loops"
      ]
    },
    {
      "cell_type": "code",
      "execution_count": null,
      "metadata": {
        "collapsed": true,
        "colab": {
          "base_uri": "https://localhost:8080/"
        },
        "id": "sCMWjOh6uBPt",
        "outputId": "b56786a7-3838-46c9-8814-a6be4ac12589"
      },
      "outputs": [
        {
          "output_type": "stream",
          "name": "stdout",
          "text": [
            "1\n",
            "2\n",
            "3\n",
            "4\n",
            "5\n"
          ]
        }
      ],
      "source": [
        "#varrendo termo a termo de uma lista\n",
        "\n",
        "seq = [1,2,3,4,5] #lista\n",
        "for item in seq:#para cada item da lista seq\n",
        "    print(item)"
      ]
    },
    {
      "cell_type": "code",
      "execution_count": null,
      "metadata": {
        "colab": {
          "base_uri": "https://localhost:8080/"
        },
        "id": "bKrxQHyBuBPu",
        "outputId": "494f9f8b-cb08-4b90-a03c-b47ee42935f1"
      },
      "outputs": [
        {
          "output_type": "stream",
          "name": "stdout",
          "text": [
            "!\n"
          ]
        }
      ],
      "source": [
        "for item in seq:\n",
        "    print('!')"
      ]
    },
    {
      "cell_type": "code",
      "execution_count": null,
      "metadata": {
        "colab": {
          "base_uri": "https://localhost:8080/"
        },
        "id": "lt8qjMcCuBPu",
        "outputId": "81073a0b-080c-420f-9c0c-f77b0212fcc6"
      },
      "outputs": [
        {
          "output_type": "stream",
          "name": "stdout",
          "text": [
            "2\n",
            "4\n",
            "6\n",
            "8\n",
            "10\n"
          ]
        }
      ],
      "source": [
        "#pode-se nomear os termos iteraveis da lista\n",
        "#com nomes validos, sem se alterar o resultado\n",
        "\n",
        "for outra_coisa in seq:\n",
        "    print(outra_coisa+outra_coisa)"
      ]
    },
    {
      "cell_type": "markdown",
      "metadata": {
        "id": "ngRkZ2mVuBPu"
      },
      "source": [
        "## while Loops"
      ]
    },
    {
      "cell_type": "code",
      "execution_count": null,
      "metadata": {
        "colab": {
          "base_uri": "https://localhost:8080/"
        },
        "id": "dc5T-EQPuBPu",
        "outputId": "c04c08ba-e037-43d4-9898-77fa264d2eed"
      },
      "outputs": [
        {
          "output_type": "stream",
          "name": "stdout",
          "text": [
            "i is: 1\n",
            "i is: 2\n",
            "i is: 3\n",
            "i is: 4\n",
            "i is: 5\n",
            "i is: 6\n",
            "i is: 7\n",
            "i is: 8\n",
            "i is: 9\n",
            "i is: 10\n",
            "i is: 11\n"
          ]
        }
      ],
      "source": [
        "i = 1\n",
        "while i < 12:\n",
        "    print('i is: {}'.format(i))\n",
        "    i = i+1"
      ]
    },
    {
      "cell_type": "markdown",
      "metadata": {
        "id": "YvKdOQmyuBPv"
      },
      "source": [
        "## range()"
      ]
    },
    {
      "cell_type": "code",
      "execution_count": null,
      "metadata": {
        "colab": {
          "base_uri": "https://localhost:8080/"
        },
        "id": "Uug3hLWxuBPv",
        "outputId": "dd2fad9e-18e7-4e19-cf59-7245f5e6d4f8"
      },
      "outputs": [
        {
          "output_type": "execute_result",
          "data": {
            "text/plain": [
              "range(0, 5)"
            ]
          },
          "metadata": {},
          "execution_count": 118
        }
      ],
      "source": [
        "#funcao que determina intervalos\n",
        "\n",
        "range(5)"
      ]
    },
    {
      "cell_type": "code",
      "execution_count": null,
      "metadata": {
        "colab": {
          "base_uri": "https://localhost:8080/"
        },
        "id": "Az5P23VNuBPv",
        "outputId": "76ee2911-cc41-4b04-ba98-618e12518fa6"
      },
      "outputs": [
        {
          "output_type": "stream",
          "name": "stdout",
          "text": [
            "vamos contar até 5 varrendo o intervalo range(0, 5)\n",
            "0\n",
            "1\n",
            "2\n",
            "3\n",
            "4\n"
          ]
        }
      ],
      "source": [
        "x=range(5)\n",
        "print('vamos contar até 5 varrendo o intervalo {}'.format(x))\n",
        "for i in x:\n",
        "    print(i)"
      ]
    },
    {
      "cell_type": "code",
      "execution_count": null,
      "metadata": {
        "colab": {
          "base_uri": "https://localhost:8080/"
        },
        "id": "uET-UrN1uBPv",
        "outputId": "e76af405-8ecd-4104-9fa1-64570e51c5df"
      },
      "outputs": [
        {
          "output_type": "execute_result",
          "data": {
            "text/plain": [
              "[0, 1, 2, 3, 4]"
            ]
          },
          "metadata": {},
          "execution_count": 123
        }
      ],
      "source": [
        "#pode-se criar uma lista diretamente com o metodo\n",
        "a= list(range(5))\n",
        "a"
      ]
    },
    {
      "cell_type": "markdown",
      "metadata": {
        "id": "cy9fSNA8uBPw"
      },
      "source": [
        "## list comprehension"
      ]
    },
    {
      "cell_type": "code",
      "execution_count": null,
      "metadata": {
        "colab": {
          "base_uri": "https://localhost:8080/"
        },
        "id": "41X6Wp4kuBPw",
        "outputId": "1ca0538d-6119-4b47-d07c-9218dd0b37ac"
      },
      "outputs": [
        {
          "output_type": "stream",
          "name": "stdout",
          "text": [
            "[1, 4, 9, 16]\n"
          ]
        }
      ],
      "source": [
        "x = [1,2,3,4]\n",
        "#o codigo abaixo deve ser evitado\n",
        "#ele sera completamente substituido\n",
        "#atraves da compreencao de lista\n",
        "\n",
        "out = []\n",
        "#Para cada termo da lista\n",
        "for item in x:\n",
        "  #adiciona termo a termo\n",
        "    out.append(item**2)\n",
        "print(out)"
      ]
    },
    {
      "cell_type": "code",
      "execution_count": null,
      "metadata": {
        "colab": {
          "base_uri": "https://localhost:8080/"
        },
        "id": "wowLXA96uBPx",
        "outputId": "d50b3830-ab98-4bdc-9607-05366e380140"
      },
      "outputs": [
        {
          "output_type": "execute_result",
          "data": {
            "text/plain": [
              "[1, 4, 9, 16]"
            ]
          },
          "metadata": {},
          "execution_count": 128
        }
      ],
      "source": [
        "# Este codigo deve ser utilizado\n",
        "# coloque cada termo da lista multiplicado por 2 na nova lista\n",
        "\n",
        "nova_lista= [item**2 for item in x]# apenas uma linha! sem estrutura de comparacao!\n",
        "nova_lista"
      ]
    },
    {
      "cell_type": "markdown",
      "metadata": {
        "id": "yZwi7jBHuBPx"
      },
      "source": [
        "## Funções"
      ]
    },
    {
      "cell_type": "code",
      "execution_count": null,
      "metadata": {
        "collapsed": true,
        "id": "cknftiuauBPy"
      },
      "outputs": [],
      "source": [
        "def my_func(param1='default'):\n",
        "    \"\"\"\n",
        "    Documentação da função vai aqui.\n",
        "    \n",
        "    Argumento:\n",
        "     param1: quanlquer tipo\n",
        "    \n",
        "    Esta funcao printa o valor que voce estocou na variavel param1\n",
        "    \"\"\"\n",
        "    print(param1)"
      ]
    },
    {
      "cell_type": "code",
      "execution_count": null,
      "metadata": {
        "colab": {
          "base_uri": "https://localhost:8080/"
        },
        "id": "ffVAjNwauBPy",
        "outputId": "5e50e856-7de5-4a12-f726-ccf5dd47b754"
      },
      "outputs": [
        {
          "output_type": "execute_result",
          "data": {
            "text/plain": [
              "<function __main__.my_func>"
            ]
          },
          "metadata": {},
          "execution_count": 131
        }
      ],
      "source": [
        "#a importancia do parenteses\n",
        "my_func"
      ]
    },
    {
      "cell_type": "code",
      "execution_count": null,
      "metadata": {
        "colab": {
          "base_uri": "https://localhost:8080/"
        },
        "id": "_sc46uJhuBPy",
        "outputId": "b12ff31e-d0cc-420b-ce3b-0e90c8fcb70b"
      },
      "outputs": [
        {
          "output_type": "stream",
          "name": "stdout",
          "text": [
            "default\n"
          ]
        }
      ],
      "source": [
        "#uso da funcao com o valor padrao\n",
        "my_func()"
      ]
    },
    {
      "cell_type": "code",
      "execution_count": null,
      "metadata": {
        "colab": {
          "base_uri": "https://localhost:8080/"
        },
        "id": "GeE7Bbd1uBPz",
        "outputId": "bfb0fd8f-c30c-4ad1-df55-be663a5bce28"
      },
      "outputs": [
        {
          "output_type": "stream",
          "name": "stdout",
          "text": [
            "novo parametro\n"
          ]
        }
      ],
      "source": [
        "#alterando o valor padrao\n",
        "my_func('novo parametro')"
      ]
    },
    {
      "cell_type": "code",
      "execution_count": null,
      "metadata": {
        "colab": {
          "base_uri": "https://localhost:8080/"
        },
        "id": "ni0xwsyIuBPz",
        "outputId": "a9483298-d63e-4e16-e504-2655aeeb2fb4"
      },
      "outputs": [
        {
          "output_type": "stream",
          "name": "stdout",
          "text": [
            "supernovo parametro\n"
          ]
        }
      ],
      "source": [
        "#parametros podem ser inseridos fora de orde***\n",
        "my_func(param1='supernovo parametro')"
      ]
    },
    {
      "cell_type": "code",
      "execution_count": null,
      "metadata": {
        "collapsed": true,
        "colab": {
          "base_uri": "https://localhost:8080/"
        },
        "id": "QgO2AjaluBPz",
        "outputId": "cc930c5a-f900-46cc-f86b-547a4f7829a6"
      },
      "outputs": [
        {
          "output_type": "stream",
          "name": "stdout",
          "text": [
            "4\n"
          ]
        }
      ],
      "source": [
        "#As funcoes assim definidas sao pre-processadas\n",
        "#e nao fazem parte do programa principal \n",
        "#e podem ser chamadas por ele\n",
        "def square(x):\n",
        "    return x**2\n",
        "\n",
        "#programa main() no c++\n",
        "\n",
        "out = square(2)\n",
        "print(out)"
      ]
    },
    {
      "cell_type": "markdown",
      "metadata": {
        "id": "N08O2qzcuBP0"
      },
      "source": [
        "## Expressões lamda\n",
        "  são expressões que podem substituir funções\n",
        "\n",
        "  são muito importante em processo de mapeamento\n",
        "\n",
        "  e, portanto, serão muito importantes no uso \n",
        "  \n",
        "  da biblioteca Pandas"
      ]
    },
    {
      "cell_type": "code",
      "execution_count": null,
      "metadata": {
        "collapsed": true,
        "colab": {
          "base_uri": "https://localhost:8080/"
        },
        "id": "aTMMrmrUuBP0",
        "outputId": "9c280d9b-1178-4734-afd5-01ccaf416ddc"
      },
      "outputs": [
        {
          "output_type": "execute_result",
          "data": {
            "text/plain": [
              "4"
            ]
          },
          "metadata": {},
          "execution_count": 148
        }
      ],
      "source": [
        "#uma funcao qualquer\n",
        "#multiplica o valor por 2\n",
        "\n",
        "def vezes2(var):\n",
        "    return var*2\n",
        "\n",
        "#usando a funcao\n",
        "vezes2(2)"
      ]
    },
    {
      "cell_type": "code",
      "execution_count": null,
      "metadata": {
        "colab": {
          "base_uri": "https://localhost:8080/"
        },
        "id": "-NU8GiTduBP1",
        "outputId": "45889dfa-36ee-422e-9daf-c84fad048a5d"
      },
      "outputs": [
        {
          "output_type": "execute_result",
          "data": {
            "text/plain": [
              "<function __main__.<lambda>>"
            ]
          },
          "metadata": {},
          "execution_count": 149
        }
      ],
      "source": [
        "#expressao lambda correspondente\n",
        "\n",
        "lambda var: var*2"
      ]
    },
    {
      "cell_type": "markdown",
      "metadata": {
        "id": "KwqS3UiKuBP1"
      },
      "source": [
        "\n",
        "\n",
        "```\n",
        "# Isto está formatado como código\n",
        "```\n",
        "\n",
        "## map e filter\n",
        "  Nesta parte o uso da expressão lambda se torna muito importante\n",
        "\n",
        "  MAP\n",
        "  \n",
        "  É um funcional que mapeia (matematicamente falando) o valor de um vetor/lista em outra lista/vetor.\n",
        "  \n",
        "  map(função, lista)\n",
        "  \n",
        "  map(lambda x: equação, lista)\n",
        "\n",
        "  FILTER\n",
        "\n",
        "  Como o nome sugere, faz filtros em uma lista.\n",
        "  \n",
        "  filter(função, lista)\n",
        "  \n",
        "  filter(lambda x: equação, lista)"
      ]
    },
    {
      "cell_type": "code",
      "execution_count": null,
      "metadata": {
        "collapsed": true,
        "colab": {
          "base_uri": "https://localhost:8080/"
        },
        "id": "ABB8i_TluBP1",
        "outputId": "6d127bb0-2703-4bbb-8a47-9749a13b6bf5"
      },
      "outputs": [
        {
          "output_type": "execute_result",
          "data": {
            "text/plain": [
              "<map at 0x7f13254893d0>"
            ]
          },
          "metadata": {},
          "execution_count": 226
        }
      ],
      "source": [
        "#lista\n",
        "seq = [1,2,3,4,5]\n",
        "\n",
        "#mapeie os valores da lista na funcao \n",
        "#que multiplica as entradas por 2\n",
        "#o resultado e um mapa\n",
        "\n",
        "map(vezes2,seq)"
      ]
    },
    {
      "cell_type": "code",
      "execution_count": null,
      "metadata": {
        "colab": {
          "base_uri": "https://localhost:8080/"
        },
        "id": "6jF9NWILuBP1",
        "outputId": "717458e2-1a58-4711-f7f8-6e435feaff8f"
      },
      "outputs": [
        {
          "output_type": "execute_result",
          "data": {
            "text/plain": [
              "[2, 4, 6, 8, 10]"
            ]
          },
          "metadata": {},
          "execution_count": 227
        }
      ],
      "source": [
        "#pode-se criar uma lista\n",
        "#uma vez que se mapeia uma lista\n",
        "\n",
        "lista_funcao= list(map(vezes2,seq))\n",
        "lista_funcao"
      ]
    },
    {
      "cell_type": "code",
      "execution_count": null,
      "metadata": {
        "colab": {
          "base_uri": "https://localhost:8080/"
        },
        "id": "HlhU2v46uBP2",
        "outputId": "8bf68e9f-8c43-4ec1-c83b-12cc27e19873"
      },
      "outputs": [
        {
          "output_type": "execute_result",
          "data": {
            "text/plain": [
              "[1, 4, 9, 16, 25]"
            ]
          },
          "metadata": {},
          "execution_count": 230
        }
      ],
      "source": [
        "#isto pode ser reduzido com o uso da expressao lambda\n",
        "#coloquei elevado ao quadrado para diferenciar\n",
        "lista_lambda= list(map(lambda var: var**2,seq))\n",
        "lista_lambda"
      ]
    },
    {
      "cell_type": "code",
      "execution_count": null,
      "metadata": {
        "colab": {
          "base_uri": "https://localhost:8080/"
        },
        "id": "IrXtegRVuBP2",
        "outputId": "28a1b9db-6b64-4164-b05a-4803fc0fe759"
      },
      "outputs": [
        {
          "output_type": "execute_result",
          "data": {
            "text/plain": [
              "<filter at 0x7f1325441610>"
            ]
          },
          "metadata": {},
          "execution_count": 232
        }
      ],
      "source": [
        "#filtre os valores da seq cuja raiz quadrada e 2\n",
        "\n",
        "filter(lambda item: item == 2,seq)"
      ]
    },
    {
      "cell_type": "code",
      "execution_count": null,
      "metadata": {
        "colab": {
          "base_uri": "https://localhost:8080/"
        },
        "id": "fRwf0tyAuBP2",
        "outputId": "5b314008-57bc-419f-8845-1bd60576ccb6"
      },
      "outputs": [
        {
          "output_type": "execute_result",
          "data": {
            "text/plain": [
              "[2, 4]"
            ]
          },
          "metadata": {},
          "execution_count": 183
        }
      ],
      "source": [
        "#gera uma lista cujo filtro eh\n",
        "#valores sao pares\n",
        "\n",
        "list(filter(lambda item: item%2==0,seq))"
      ]
    },
    {
      "cell_type": "code",
      "source": [
        "#filtre os valores da seq cuja raiz quadrada e 2\n",
        "\n",
        "list(filter(lambda item: item**(0.5)==2, seq))"
      ],
      "metadata": {
        "colab": {
          "base_uri": "https://localhost:8080/"
        },
        "id": "3MN6wo91JbIT",
        "outputId": "682527cf-9577-41c3-b398-85821de4e638"
      },
      "execution_count": null,
      "outputs": [
        {
          "output_type": "execute_result",
          "data": {
            "text/plain": [
              "[4]"
            ]
          },
          "metadata": {},
          "execution_count": 231
        }
      ]
    },
    {
      "cell_type": "markdown",
      "metadata": {
        "id": "THbWNHgauBP3"
      },
      "source": [
        "## Métodos"
      ]
    },
    {
      "cell_type": "markdown",
      "source": [
        "###Strings"
      ],
      "metadata": {
        "id": "FMN-1qIeMjGW"
      }
    },
    {
      "cell_type": "code",
      "execution_count": null,
      "metadata": {
        "collapsed": true,
        "id": "OA6dIIcouBP3"
      },
      "outputs": [],
      "source": [
        "st = 'Olá, me chamo Sam'"
      ]
    },
    {
      "cell_type": "code",
      "execution_count": null,
      "metadata": {
        "colab": {
          "base_uri": "https://localhost:8080/",
          "height": 34
        },
        "id": "fEFd5SJtuBP3",
        "outputId": "22ad574a-8501-46f0-edf6-99b4e1185640"
      },
      "outputs": [
        {
          "output_type": "execute_result",
          "data": {
            "text/plain": [
              "'olá, me chamo sam'"
            ],
            "application/vnd.google.colaboratory.intrinsic+json": {
              "type": "string"
            }
          },
          "metadata": {},
          "execution_count": 209
        }
      ],
      "source": [
        "st.lower()"
      ]
    },
    {
      "cell_type": "code",
      "execution_count": null,
      "metadata": {
        "colab": {
          "base_uri": "https://localhost:8080/",
          "height": 34
        },
        "id": "nhBVZKuHuBP4",
        "outputId": "0ebe4b37-3c54-411b-a79e-71bce3f189d5"
      },
      "outputs": [
        {
          "output_type": "execute_result",
          "data": {
            "text/plain": [
              "'OLÁ, ME CHAMO SAM'"
            ],
            "application/vnd.google.colaboratory.intrinsic+json": {
              "type": "string"
            }
          },
          "metadata": {},
          "execution_count": 210
        }
      ],
      "source": [
        "st.upper()"
      ]
    },
    {
      "cell_type": "code",
      "execution_count": null,
      "metadata": {
        "colab": {
          "base_uri": "https://localhost:8080/"
        },
        "id": "junHMm2muBP4",
        "outputId": "5b07910e-f348-4ab2-f240-520a59ba6d94"
      },
      "outputs": [
        {
          "output_type": "execute_result",
          "data": {
            "text/plain": [
              "['Olá,', 'me', 'chamo', 'Sam']"
            ]
          },
          "metadata": {},
          "execution_count": 211
        }
      ],
      "source": [
        "st.split()"
      ]
    },
    {
      "cell_type": "code",
      "execution_count": null,
      "metadata": {
        "collapsed": true,
        "id": "3hnL3q8auBP5"
      },
      "outputs": [],
      "source": [
        "tweet = 'Vai pra cima deles Galo! #Galo'"
      ]
    },
    {
      "cell_type": "code",
      "execution_count": null,
      "metadata": {
        "colab": {
          "base_uri": "https://localhost:8080/"
        },
        "id": "FvwRBGnpuBP5",
        "outputId": "4a3ddad6-56c7-4aeb-ed28-b328a3948452"
      },
      "outputs": [
        {
          "output_type": "execute_result",
          "data": {
            "text/plain": [
              "['Vai pra cima deles Galo! ', 'Galo']"
            ]
          },
          "metadata": {},
          "execution_count": 242
        }
      ],
      "source": [
        "#funcao split com um caractere especifico\n",
        "tweet.split('#')"
      ]
    },
    {
      "cell_type": "code",
      "execution_count": null,
      "metadata": {
        "colab": {
          "base_uri": "https://localhost:8080/"
        },
        "id": "YtP8ehGruBP5",
        "outputId": "c591fb94-dc5c-4606-943a-f21e46c4f324"
      },
      "outputs": [
        {
          "output_type": "stream",
          "name": "stdout",
          "text": [
            "Vai pra cima deles Galo! \n",
            "Vai pra cima deles Galo! \n",
            "Vai pra cima deles Galo! \n",
            "Vai pra cima deles Galo! \n",
            "Vai pra cima deles Galo! \n",
            "Vai pra cima deles Galo! \n",
            "Vai pra cima deles Galo! \n",
            "Vai pra cima deles Galo! \n",
            "Vai pra cima deles Galo! \n",
            "Vai pra cima deles Galo! \n",
            "Galo\n",
            "Ohohohohô\n",
            "Ohohohohô\n",
            "Ohohohohô\n",
            "Galo\n"
          ]
        }
      ],
      "source": [
        "for i in range(10):\n",
        "  print(tweet.split('#')[0])\n",
        "print(tweet.split('#')[1])\n",
        "for i in range(3):\n",
        "  print(\"Ohohohohô\")\n",
        "print(tweet.split('#')[1])"
      ]
    },
    {
      "cell_type": "code",
      "execution_count": null,
      "metadata": {
        "colab": {
          "base_uri": "https://localhost:8080/"
        },
        "id": "i6tf2j5fuBP6",
        "outputId": "20aaca3d-fc7c-4486-8879-305a5a375abd"
      },
      "outputs": [
        {
          "output_type": "execute_result",
          "data": {
            "text/plain": [
              "{'chave1': 'item1', 'chave2': 'item2'}"
            ]
          },
          "metadata": {},
          "execution_count": 247
        }
      ],
      "source": [
        "#dicionatio criado anteriormente\n",
        "d"
      ]
    },
    {
      "cell_type": "code",
      "execution_count": null,
      "metadata": {
        "colab": {
          "base_uri": "https://localhost:8080/"
        },
        "id": "Ancwp1kRuBP6",
        "outputId": "4e4f4f77-73e0-4dbd-fd6d-6b6f541ecbcb"
      },
      "outputs": [
        {
          "output_type": "execute_result",
          "data": {
            "text/plain": [
              "dict_keys(['chave1', 'chave2'])"
            ]
          },
          "metadata": {},
          "execution_count": 248
        }
      ],
      "source": [
        "#chaves ou nomes dos atributos\n",
        "d.keys()"
      ]
    },
    {
      "cell_type": "code",
      "execution_count": null,
      "metadata": {
        "colab": {
          "base_uri": "https://localhost:8080/"
        },
        "id": "dlAZn66RuBP7",
        "outputId": "c794ed9c-8037-44e6-e0ce-a53d5c91be4c"
      },
      "outputs": [
        {
          "output_type": "execute_result",
          "data": {
            "text/plain": [
              "dict_items([('chave1', 'item1'), ('chave2', 'item2')])"
            ]
          },
          "metadata": {},
          "execution_count": 249
        }
      ],
      "source": [
        "#entradas do dicionario\n",
        "d.items()"
      ]
    },
    {
      "cell_type": "code",
      "execution_count": null,
      "metadata": {
        "colab": {
          "base_uri": "https://localhost:8080/"
        },
        "id": "oq9e5_ODuBP7",
        "outputId": "06c20433-34f5-4167-f4ca-16f7951be15d"
      },
      "outputs": [
        {
          "output_type": "execute_result",
          "data": {
            "text/plain": [
              "3"
            ]
          },
          "metadata": {},
          "execution_count": 252
        }
      ],
      "source": [
        "lst = [1,2,3]\n",
        "\n",
        "#retirando o ultimo item da lista\n",
        "lst.pop()"
      ]
    },
    {
      "cell_type": "code",
      "execution_count": null,
      "metadata": {
        "colab": {
          "base_uri": "https://localhost:8080/"
        },
        "id": "_8vyvpa6uBP8",
        "outputId": "ade7c7aa-27e7-44e3-92f8-053ea37c8c61"
      },
      "outputs": [
        {
          "output_type": "execute_result",
          "data": {
            "text/plain": [
              "[1, 2]"
            ]
          },
          "metadata": {},
          "execution_count": 251
        }
      ],
      "source": [
        "lst"
      ]
    },
    {
      "cell_type": "code",
      "execution_count": null,
      "metadata": {
        "colab": {
          "base_uri": "https://localhost:8080/"
        },
        "id": "hdjY4nE4uBP8",
        "outputId": "15f5250e-ad87-479f-cddc-6944fd1f5db7"
      },
      "outputs": [
        {
          "output_type": "execute_result",
          "data": {
            "text/plain": [
              "False"
            ]
          },
          "metadata": {},
          "execution_count": 253
        }
      ],
      "source": [
        "#verificacao simples de valor em lista\n",
        "'x' in [1,2,3]"
      ]
    },
    {
      "cell_type": "code",
      "execution_count": null,
      "metadata": {
        "scrolled": true,
        "colab": {
          "base_uri": "https://localhost:8080/"
        },
        "id": "mILlN3dduBP_",
        "outputId": "02c4d30d-eae0-434e-cc23-05b7b9dc3fb2"
      },
      "outputs": [
        {
          "output_type": "execute_result",
          "data": {
            "text/plain": [
              "True"
            ]
          },
          "metadata": {},
          "execution_count": 254
        }
      ],
      "source": [
        "'x' in ['x','y','z']"
      ]
    }
  ],
  "metadata": {
    "kernelspec": {
      "display_name": "Python 3",
      "language": "python",
      "name": "python3"
    },
    "language_info": {
      "codemirror_mode": {
        "name": "ipython",
        "version": 3
      },
      "file_extension": ".py",
      "mimetype": "text/x-python",
      "name": "python",
      "nbconvert_exporter": "python",
      "pygments_lexer": "ipython3",
      "version": "3.6.1"
    },
    "colab": {
      "name": "Curso relâmpado de Python.ipynb",
      "provenance": [],
      "collapsed_sections": [
        "FzooB6_MuBPT"
      ],
      "include_colab_link": true
    }
  },
  "nbformat": 4,
  "nbformat_minor": 0
}
