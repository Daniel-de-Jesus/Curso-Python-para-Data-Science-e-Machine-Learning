{
  "cells": [
    {
      "cell_type": "markdown",
      "metadata": {
        "id": "view-in-github",
        "colab_type": "text"
      },
      "source": [
        "<a href=\"https://colab.research.google.com/github/Daniel-de-Jesus/Curso-Python-para-Data-Science-e-Machine-Learning/blob/main/Meus_exercicicios.ipynb\" target=\"_parent\"><img src=\"https://colab.research.google.com/assets/colab-badge.svg\" alt=\"Open In Colab\"/></a>"
      ]
    },
    {
      "cell_type": "markdown",
      "metadata": {
        "id": "_lCNWERiXmx9"
      },
      "source": [
        "# Curso relâmpago de Python - Exercícios\n",
        "  Descrição do autor\n",
        "\n",
        "    Este é um exercício opcional para testar sua compreensão sobre o Python Basics.\n",
        "    Se você achar isso extremamente desafiador, então você provavelmente ainda não está pronto\n",
        "    para o resto deste curso e não tem experiência de programação suficiente para continuar.\n",
        "    Eu sugiro que você faça outro curso mais orientado para iniciantes, como:\n",
        "---\n",
        "---\n",
        "    Complete Python Bootcamp\n",
        "    https://www.udemy.com/complete-python-bootcamp\n",
        "---\n",
        "---"
      ]
    },
    {
      "cell_type": "markdown",
      "metadata": {
        "id": "9rKty6VmXmyG"
      },
      "source": [
        "## Exercícios\n",
        "\n",
        "Responda as perguntas ou complete as tarefas descritas em negrito abaixo, use o método específico, se aplicável."
      ]
    },
    {
      "cell_type": "markdown",
      "metadata": {
        "id": "jZRWON-nXmyH"
      },
      "source": [
        "** Quanto é 7 elevado na potência 4?**"
      ]
    },
    {
      "cell_type": "code",
      "execution_count": null,
      "metadata": {
        "colab": {
          "base_uri": "https://localhost:8080/"
        },
        "id": "RlV3sCMkXmyH",
        "outputId": "26ff0664-07d5-4b11-dd91-640ebcc06725"
      },
      "outputs": [
        {
          "output_type": "execute_result",
          "data": {
            "text/plain": [
              "2401"
            ]
          },
          "metadata": {},
          "execution_count": 1
        }
      ],
      "source": [
        "7**4"
      ]
    },
    {
      "cell_type": "markdown",
      "metadata": {
        "id": "-3N8uO9hXmyJ"
      },
      "source": [
        "** Quebre a seguinte string em uma lista:**\n",
        "\n",
        "    s = \"Olá, Pai!\""
      ]
    },
    {
      "cell_type": "code",
      "execution_count": null,
      "metadata": {
        "collapsed": true,
        "colab": {
          "base_uri": "https://localhost:8080/"
        },
        "id": "pFm244e1XmyK",
        "outputId": "fce44a29-da0e-4fa8-f745-7a1d146ff58a"
      },
      "outputs": [
        {
          "output_type": "execute_result",
          "data": {
            "text/plain": [
              "['Olá,', 'Pai!']"
            ]
          },
          "metadata": {},
          "execution_count": 3
        }
      ],
      "source": [
        "s = \"Olá, Pai!\"\n",
        "s.split()"
      ]
    },
    {
      "cell_type": "markdown",
      "metadata": {
        "id": "aUoYKmSLXmyM"
      },
      "source": [
        "** Dada as variáveis:**\n",
        "\n",
        "    Planeta = \"Terra\"\n",
        "    Diametro = 12742\n",
        "\n",
        "** Use .format() para printar a seguinte frase: **\n",
        "\n",
        "    O diâmetro da terra é de 12742 kilômetros."
      ]
    },
    {
      "cell_type": "code",
      "execution_count": null,
      "metadata": {
        "collapsed": true,
        "colab": {
          "base_uri": "https://localhost:8080/"
        },
        "id": "ot8BIiHxXmyN",
        "outputId": "ec956e43-08dd-45b3-aef6-7858ae5f9a5c"
      },
      "outputs": [
        {
          "output_type": "stream",
          "name": "stdout",
          "text": [
            "O diâmetro da Terra é de 12742 kilômetros.\n"
          ]
        }
      ],
      "source": [
        "planeta = \"Terra\"\n",
        "diametro = 12742\n",
        "print(f'O diâmetro da {planeta} é de {diametro} kilômetros.')"
      ]
    },
    {
      "cell_type": "markdown",
      "metadata": {
        "id": "SpvbGAdmXmyP"
      },
      "source": [
        "** Dada a lista abaixo, use indexação para obter apenas a string \"ola\". **"
      ]
    },
    {
      "cell_type": "code",
      "execution_count": null,
      "metadata": {
        "collapsed": true,
        "colab": {
          "base_uri": "https://localhost:8080/",
          "height": 34
        },
        "id": "Q-b8TVQ4XmyP",
        "outputId": "a46c02cf-9ff5-474d-a09c-3d4092477455"
      },
      "outputs": [
        {
          "output_type": "execute_result",
          "data": {
            "text/plain": [
              "'olá'"
            ],
            "application/vnd.google.colaboratory.intrinsic+json": {
              "type": "string"
            }
          },
          "metadata": {},
          "execution_count": 9
        }
      ],
      "source": [
        "lst = [1,2,[3,4],[5,[100,200,['olá']],23,11],1,7]\n",
        "lst[3][1][2][0]"
      ]
    },
    {
      "cell_type": "markdown",
      "metadata": {
        "id": "ceW8NMlJXmyS"
      },
      "source": [
        "** Dado o seguinte dicionário aninhado, extraia a palavra \"hello\" **"
      ]
    },
    {
      "cell_type": "code",
      "execution_count": null,
      "metadata": {
        "collapsed": true,
        "colab": {
          "base_uri": "https://localhost:8080/",
          "height": 34
        },
        "id": "dUxiJPwvXmyR",
        "outputId": "ee43177c-54dd-402d-cbf6-c3f017314837"
      },
      "outputs": [
        {
          "output_type": "execute_result",
          "data": {
            "text/plain": [
              "'olá'"
            ],
            "application/vnd.google.colaboratory.intrinsic+json": {
              "type": "string"
            }
          },
          "metadata": {},
          "execution_count": 21
        }
      ],
      "source": [
        "d = {'k1':[1,2,3,{'café':['banana','mulher','colher',{'alvo':[1,2,3,'olá']}]}]}\n",
        "d['k1'][3]['café'][3]['alvo'][3]"
      ]
    },
    {
      "cell_type": "markdown",
      "metadata": {
        "id": "iJF_0YLLXmyT"
      },
      "source": [
        "** Qual a principal diferença entre um dicionário e uma tupla? **"
      ]
    },
    {
      "cell_type": "code",
      "execution_count": null,
      "metadata": {
        "collapsed": true,
        "colab": {
          "base_uri": "https://localhost:8080/"
        },
        "id": "MGahfj1aXmyU",
        "outputId": "513e7bfa-3269-4214-ebb7-e095421a32f5"
      },
      "outputs": [
        {
          "output_type": "stream",
          "name": "stdout",
          "text": [
            "Existem muitas diferenças entre um dicionário e uma tupla.\n",
            "A primeira diferença é estrutural, um é organizado com chaves e seus respectivos valores.\n",
            "A diferença operacional é que a tupla é imutável.\n"
          ]
        }
      ],
      "source": [
        "print('Existem muitas diferenças entre um dicionário e uma tupla.\\nA primeira diferença é estrutural, um é organizado com chaves e seus respectivos valores.\\nA diferença operacional é que a tupla é imutável.')"
      ]
    },
    {
      "cell_type": "markdown",
      "metadata": {
        "id": "xXdhgP0kXmyU"
      },
      "source": [
        "** Construa uma função que retire o domínio dado um e-mail no seguinte formato: **\n",
        "\n",
        "    user@domain.com\n",
        "    \n",
        "**Por exemplo, passando como parâmetro \"user@domain.com\" retornaria: domain.com**"
      ]
    },
    {
      "cell_type": "code",
      "execution_count": null,
      "metadata": {
        "collapsed": true,
        "colab": {
          "base_uri": "https://localhost:8080/"
        },
        "id": "9t63w88wXmyU",
        "outputId": "710c71d4-dea7-4650-dda5-2a27f9760788"
      },
      "outputs": [
        {
          "output_type": "stream",
          "name": "stdout",
          "text": [
            "domain.com\n"
          ]
        }
      ],
      "source": [
        "def obterDominio(email):\n",
        "  return email.split('@')[1]\n",
        "\n",
        "print(obterDominio('user@domain.com'))"
      ]
    },
    {
      "cell_type": "markdown",
      "metadata": {
        "id": "NWg5fDPPXmyV"
      },
      "source": [
        "** Crie uma função básica que retorna True se a palavra 'dog' estiver contida na string de entrada. Não se preocupe com os casos de extremos, como uma pontuação que está sendo anexada à palavra cão, mas que seja senível à caixa. **"
      ]
    },
    {
      "cell_type": "code",
      "execution_count": null,
      "metadata": {
        "collapsed": true,
        "colab": {
          "base_uri": "https://localhost:8080/"
        },
        "id": "RpbjgQyIXmyW",
        "outputId": "a185d00f-0629-45d5-d326-daee97469b74"
      },
      "outputs": [
        {
          "output_type": "stream",
          "name": "stdout",
          "text": [
            "True\n"
          ]
        }
      ],
      "source": [
        "def encontreCachorro(frase):\n",
        "  return ('cachorro' in frase)\n",
        "print(encontreCachorro('Existe um cachorro aí?'))"
      ]
    },
    {
      "cell_type": "markdown",
      "metadata": {
        "id": "AndMosM5XmyW"
      },
      "source": [
        "** Crie uma função que conta o número de vezes que a palavra \"dog\" ocorre em uma string. Novamente ignore os casos extremos. **"
      ]
    },
    {
      "cell_type": "code",
      "source": [
        "def contaCachorro(frase):\n",
        "  return len(list(filter(lambda i: (i== 'cachorro') or (i=='cachorro.'), list(frase.split()))))\n",
        "contaCachorro('Esse cachorro é mais rápido que o outro cachorro.')"
      ],
      "metadata": {
        "colab": {
          "base_uri": "https://localhost:8080/"
        },
        "id": "Lr3BE8lNdzqS",
        "outputId": "013bbdf0-aac2-4dd0-baf0-cb3521a4ee74"
      },
      "execution_count": null,
      "outputs": [
        {
          "output_type": "execute_result",
          "data": {
            "text/plain": [
              "2"
            ]
          },
          "metadata": {},
          "execution_count": 85
        }
      ]
    },
    {
      "cell_type": "markdown",
      "metadata": {
        "id": "D5IPVPewXmyX"
      },
      "source": [
        "** Use expressões lambda e a função filter () para filtrar as palavras de uma lista que não começa com a letra 's'. Por exemplo: **\n",
        "\n",
        "    seq = ['sopa','cachorro','salada','gato','ótimo']\n",
        "\n",
        "** Deveria ser filtrado para:**\n",
        "\n",
        "    ['sopa','salada']"
      ]
    },
    {
      "cell_type": "code",
      "execution_count": null,
      "metadata": {
        "collapsed": true,
        "id": "w9H5KS81XmyY"
      },
      "outputs": [],
      "source": [
        "seq = ['sopa','cachorro','salada','gato','ótimo']"
      ]
    },
    {
      "cell_type": "code",
      "execution_count": null,
      "metadata": {
        "colab": {
          "base_uri": "https://localhost:8080/"
        },
        "id": "kfebHmrLXmyY",
        "outputId": "f92c85ff-9ffd-4b86-b378-7d5fb4c76e0b"
      },
      "outputs": [
        {
          "output_type": "execute_result",
          "data": {
            "text/plain": [
              "['sopa', 'salada']"
            ]
          },
          "metadata": {},
          "execution_count": 88
        }
      ],
      "source": [
        "list(filter(lambda i: i[0]=='s', seq))"
      ]
    },
    {
      "cell_type": "markdown",
      "metadata": {
        "id": "DaFme6NNXmyZ"
      },
      "source": [
        "### Problema final\n",
        "** Você está dirigindo um pouco rápido demais, e um policial para você. Escreva uma função para retornar um dos 3 resultados possíveis: \"Sem multa\", \"Pequena multa\" ou \"Multa Grande\".\n",
        "   Se a sua velocidade for igual ou inferior a 60, o resultado é \"Sem multa\". Se a velocidade for entre 61 e 80 inclusive, o resultado é \"Multa Pequena\". Se a velocidade é de 81 ou mais, o resultado é \"Multa Grande\". A menos que seja seu aniversário (codificado como um valor booleano nos parâmetros da função) - em seu aniversário, sua velocidade pode ser 5 maior em todos os casos. **"
      ]
    },
    {
      "cell_type": "code",
      "execution_count": null,
      "metadata": {
        "collapsed": true,
        "id": "KIV0LKW9XmyZ"
      },
      "outputs": [],
      "source": [
        "def capturar_velocidade(speed, is_birthday):\n",
        "  if is_birthday:\n",
        "    speed= speed-5\n",
        "  if speed <=40:\n",
        "    return  \"Sem multa\"\n",
        "  elif 60<speed<=80:\n",
        "    return \"Pequena multa\"\n",
        "  else:\n",
        "    return \"Multa Grande\"\n"
      ]
    },
    {
      "cell_type": "markdown",
      "metadata": {
        "id": "cm7aA10ZXmyZ"
      },
      "source": [
        ""
      ]
    },
    {
      "cell_type": "code",
      "source": [
        "capturar_velocidade(65,False)"
      ],
      "metadata": {
        "colab": {
          "base_uri": "https://localhost:8080/",
          "height": 34
        },
        "id": "9DQsI8cvjx6X",
        "outputId": "f003679e-94ed-4bf3-ca6c-e0a39bc0799d"
      },
      "execution_count": null,
      "outputs": [
        {
          "output_type": "execute_result",
          "data": {
            "text/plain": [
              "'Pequena multa'"
            ],
            "application/vnd.google.colaboratory.intrinsic+json": {
              "type": "string"
            }
          },
          "metadata": {},
          "execution_count": 94
        }
      ]
    },
    {
      "cell_type": "code",
      "execution_count": null,
      "metadata": {
        "colab": {
          "base_uri": "https://localhost:8080/",
          "height": 34
        },
        "id": "jLCGiZHEXmyZ",
        "outputId": "e14f6300-1be1-44f7-df12-ce45a962da2d"
      },
      "outputs": [
        {
          "output_type": "execute_result",
          "data": {
            "text/plain": [
              "'Pequena multa'"
            ],
            "application/vnd.google.colaboratory.intrinsic+json": {
              "type": "string"
            }
          },
          "metadata": {},
          "execution_count": 95
        }
      ],
      "source": [
        "capturar_velocidade(65,False)"
      ]
    },
    {
      "cell_type": "code",
      "execution_count": null,
      "metadata": {
        "colab": {
          "base_uri": "https://localhost:8080/",
          "height": 34
        },
        "id": "KFODkFMLXmya",
        "outputId": "279af27d-73f0-4439-b966-e3f8f2af30ea"
      },
      "outputs": [
        {
          "output_type": "execute_result",
          "data": {
            "text/plain": [
              "'Multa Grande'"
            ],
            "application/vnd.google.colaboratory.intrinsic+json": {
              "type": "string"
            }
          },
          "metadata": {},
          "execution_count": 96
        }
      ],
      "source": [
        "capturar_velocidade(81,False)"
      ]
    },
    {
      "cell_type": "code",
      "source": [
        ""
      ],
      "metadata": {
        "id": "iwt20DA5j6ek"
      },
      "execution_count": null,
      "outputs": []
    }
  ],
  "metadata": {
    "kernelspec": {
      "display_name": "Python 3",
      "language": "python",
      "name": "python3"
    },
    "language_info": {
      "codemirror_mode": {
        "name": "ipython",
        "version": 3
      },
      "file_extension": ".py",
      "mimetype": "text/x-python",
      "name": "python",
      "nbconvert_exporter": "python",
      "pygments_lexer": "ipython3",
      "version": "3.6.1"
    },
    "colab": {
      "name": "Meus_exercicicios.ipynb",
      "provenance": [],
      "include_colab_link": true
    }
  },
  "nbformat": 4,
  "nbformat_minor": 0
}