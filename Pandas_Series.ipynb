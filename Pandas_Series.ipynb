{
  "cells": [
    {
      "cell_type": "markdown",
      "metadata": {
        "id": "view-in-github",
        "colab_type": "text"
      },
      "source": [
        "<a href=\"https://colab.research.google.com/github/Daniel-de-Jesus/Curso-Python-para-Data-Science-e-Machine-Learning/blob/main/Pandas_Series.ipynb\" target=\"_parent\"><img src=\"https://colab.research.google.com/assets/colab-badge.svg\" alt=\"Open In Colab\"/></a>"
      ]
    },
    {
      "cell_type": "markdown",
      "metadata": {
        "id": "bX9e2lbcGUgo"
      },
      "source": [
        "# Series\n",
        "\n",
        "O primeiro tipo de dado que aprenderemos é a Serie. Vamos importar Pandas e explorar tal objeto.\n",
        "\n",
        "A Serie é muito semelhante a uma matriz NumPy (na verdade, ela é construída em cima do objeto de matriz NumPy). O que diferencia a matriz NumPy de uma Série, é que uma Serie pode ter rótulos de eixos, o que significa que pode ser indexado por um rótulo, em vez de apenas uma localização numérica. Também não precisa manter dados numéricos, ele pode conter qualquer objeto Python arbitrário.\n",
        "\n",
        "Vamos explorar este conceito através de alguns exemplos:"
      ]
    },
    {
      "cell_type": "code",
      "execution_count": 2,
      "metadata": {
        "collapsed": true,
        "id": "fws2QvhyGUgw"
      },
      "outputs": [],
      "source": [
        "#importando a biblioteca\n",
        "\n",
        "import numpy as np\n",
        "import pandas as pd"
      ]
    },
    {
      "cell_type": "markdown",
      "metadata": {
        "id": "LWyxUcMFGUgy"
      },
      "source": [
        "### Criando uma Serie\n",
        "\n",
        "Você pode converter uma lista, numpy array ou dicionário para uma série:"
      ]
    },
    {
      "cell_type": "code",
      "execution_count": 3,
      "metadata": {
        "collapsed": true,
        "id": "6XxHYxmbGUgz"
      },
      "outputs": [],
      "source": [
        "labels = ['a','b','c']      #lista\n",
        "minha_lista = [10,20,30]    #lista\n",
        "arr = np.array([10,20,30])  #numpy array\n",
        "d = {'a':10,'b':20,'c':30}  #dicionario"
      ]
    },
    {
      "cell_type": "markdown",
      "metadata": {
        "id": "zIT2VCiQGUg0"
      },
      "source": [
        "** Usando listas **\n",
        "\n",
        "    Serie aceita a lista como artumento utilizando-se o argumento 'data', como mostrado abaixo:\n",
        "\n",
        "    >>pd.Series(data= minha_lista)\n",
        "\n"
      ]
    },
    {
      "cell_type": "code",
      "execution_count": 4,
      "metadata": {
        "colab": {
          "base_uri": "https://localhost:8080/"
        },
        "id": "lmSsLIyGGUg2",
        "outputId": "439a86a0-105a-4ff2-d756-1bead1b30303"
      },
      "outputs": [
        {
          "output_type": "execute_result",
          "data": {
            "text/plain": [
              "0    10\n",
              "1    20\n",
              "2    30\n",
              "dtype: int64"
            ]
          },
          "metadata": {},
          "execution_count": 4
        }
      ],
      "source": [
        "#a indexacao e automatica\n",
        "pd.Series(data=minha_lista)"
      ]
    },
    {
      "cell_type": "code",
      "execution_count": 5,
      "metadata": {
        "colab": {
          "base_uri": "https://localhost:8080/"
        },
        "id": "a9DwFKaeGUg4",
        "outputId": "bf55a808-f674-4719-9d31-370725079539"
      },
      "outputs": [
        {
          "output_type": "execute_result",
          "data": {
            "text/plain": [
              "a    10\n",
              "b    20\n",
              "c    30\n",
              "dtype: int64"
            ]
          },
          "metadata": {},
          "execution_count": 5
        }
      ],
      "source": [
        "#mas podemos alterar a indexacao para nomes, letras...\n",
        "pd.Series(data=minha_lista,index=labels)"
      ]
    },
    {
      "cell_type": "code",
      "execution_count": 7,
      "metadata": {
        "colab": {
          "base_uri": "https://localhost:8080/"
        },
        "id": "GywA1_GgGUg5",
        "outputId": "5707cf89-0233-49cf-cb83-7efb0092c30a"
      },
      "outputs": [
        {
          "output_type": "execute_result",
          "data": {
            "text/plain": [
              "a    10\n",
              "b    20\n",
              "c    30\n",
              "dtype: int64"
            ]
          },
          "metadata": {},
          "execution_count": 7
        }
      ],
      "source": [
        "#uma segunda opcao seria:\n",
        "pd.Series(minha_lista,labels)"
      ]
    },
    {
      "cell_type": "markdown",
      "metadata": {
        "id": "5thSp3zyGUg6"
      },
      "source": [
        "** NumPy Arrays **\n",
        "\n",
        "    O mesmo processo pode ser feito para arrays do Numpy,\n",
        "    apenas passando o array como um argumento para o objeto pd.Series()."
      ]
    },
    {
      "cell_type": "code",
      "execution_count": 8,
      "metadata": {
        "colab": {
          "base_uri": "https://localhost:8080/"
        },
        "id": "n6vCRf9NGUg7",
        "outputId": "255d2c8e-0c11-473e-eb24-1a53b3b60d09"
      },
      "outputs": [
        {
          "output_type": "execute_result",
          "data": {
            "text/plain": [
              "0    10\n",
              "1    20\n",
              "2    30\n",
              "dtype: int64"
            ]
          },
          "metadata": {},
          "execution_count": 8
        }
      ],
      "source": [
        "#indice numerico, default\n",
        "\n",
        "pd.Series(arr)"
      ]
    },
    {
      "cell_type": "code",
      "execution_count": 9,
      "metadata": {
        "colab": {
          "base_uri": "https://localhost:8080/"
        },
        "id": "eOHlGPeAGUg8",
        "outputId": "885e90d3-cdd6-4975-ffbe-c7012e8765e3"
      },
      "outputs": [
        {
          "output_type": "execute_result",
          "data": {
            "text/plain": [
              "a    10\n",
              "b    20\n",
              "c    30\n",
              "dtype: int64"
            ]
          },
          "metadata": {},
          "execution_count": 9
        }
      ],
      "source": [
        "#manipulando o indice\n",
        "\n",
        "pd.Series(arr,labels)"
      ]
    },
    {
      "cell_type": "markdown",
      "metadata": {
        "id": "8JkJyMRCGUg8"
      },
      "source": [
        "** Dicionários **"
      ]
    },
    {
      "cell_type": "code",
      "source": [
        "#O dicionario e uma estrutura com chaves e valores\n",
        "\n",
        "d"
      ],
      "metadata": {
        "colab": {
          "base_uri": "https://localhost:8080/"
        },
        "id": "nnQPd1UIIufu",
        "outputId": "b07f1299-1f68-46d3-8f8e-76b48eb80ad5"
      },
      "execution_count": 11,
      "outputs": [
        {
          "output_type": "execute_result",
          "data": {
            "text/plain": [
              "{'a': 10, 'b': 20, 'c': 30}"
            ]
          },
          "metadata": {},
          "execution_count": 11
        }
      ]
    },
    {
      "cell_type": "code",
      "execution_count": 12,
      "metadata": {
        "colab": {
          "base_uri": "https://localhost:8080/"
        },
        "id": "LVggzKhXGUg9",
        "outputId": "62ac0089-9e46-42d3-dfca-b31e51d75c80"
      },
      "outputs": [
        {
          "output_type": "execute_result",
          "data": {
            "text/plain": [
              "a    10\n",
              "b    20\n",
              "c    30\n",
              "dtype: int64"
            ]
          },
          "metadata": {},
          "execution_count": 12
        }
      ],
      "source": [
        "#podemos passa-lo como um argumento para a construcao de uma serie\n",
        "\n",
        "pd.Series(d)"
      ]
    },
    {
      "cell_type": "markdown",
      "metadata": {
        "id": "vOjBLroGGUg9"
      },
      "source": [
        "### Dados nas Series\n",
        "\n",
        "Uma série de pandas pode conter uma variedade de tipos de objeto:"
      ]
    },
    {
      "cell_type": "code",
      "execution_count": null,
      "metadata": {
        "id": "lLRluNdzGUg-",
        "outputId": "7d8a6048-dac0-4fce-ef63-c056bc3c83cc"
      },
      "outputs": [
        {
          "data": {
            "text/plain": [
              "0    a\n",
              "1    b\n",
              "2    c\n",
              "dtype: object"
            ]
          },
          "execution_count": 9,
          "metadata": {},
          "output_type": "execute_result"
        }
      ],
      "source": [
        "pd.Series(data=labels)"
      ]
    },
    {
      "cell_type": "code",
      "execution_count": null,
      "metadata": {
        "id": "PTwRsBaYGUg-",
        "outputId": "cfd8051d-9be0-47a9-dc00-482589423c92"
      },
      "outputs": [
        {
          "data": {
            "text/plain": [
              "0      <built-in function sum>\n",
              "1    <built-in function print>\n",
              "2      <built-in function len>\n",
              "dtype: object"
            ]
          },
          "execution_count": 10,
          "metadata": {},
          "output_type": "execute_result"
        }
      ],
      "source": [
        "# Mesmo funções (embora seja improvável que você use isso)\n",
        "pd.Series([sum,print,len])"
      ]
    },
    {
      "cell_type": "markdown",
      "metadata": {
        "id": "w7Lbv3LVGUg_"
      },
      "source": [
        "## Usando um Índice\n",
        "\n",
        "A chave para usar uma Serie é entender seu índice. O Pandas faz uso desses nomes ou números de índice, permitindo pesquisas rápidas de informações (funciona como uma tabela de hash ou dicionário).\n",
        "\n",
        "Vamos ver alguns exemplos de como pegar informações de uma Serie. Vamos criar duas Series, ser1 e ser2:"
      ]
    },
    {
      "cell_type": "code",
      "execution_count": 19,
      "metadata": {
        "collapsed": true,
        "colab": {
          "base_uri": "https://localhost:8080/"
        },
        "id": "TbgZrB_dGUhA",
        "outputId": "633efa1f-7fc9-4731-b5cd-e9a5be287a00"
      },
      "outputs": [
        {
          "output_type": "execute_result",
          "data": {
            "text/plain": [
              "EUA         1\n",
              "Alemanha    2\n",
              "USSR        3\n",
              "Japão       4\n",
              "dtype: int64"
            ]
          },
          "metadata": {},
          "execution_count": 19
        }
      ],
      "source": [
        "#Aqui vamos passar uma lista de valores e os indices serao paises\n",
        "\n",
        "\n",
        "ser1 = pd.Series([1,2,3,4],index = ['EUA', 'Alemanha','USSR', 'Japão'])\n",
        "ser1                              "
      ]
    },
    {
      "cell_type": "code",
      "execution_count": 20,
      "metadata": {
        "collapsed": true,
        "colab": {
          "base_uri": "https://localhost:8080/"
        },
        "id": "rOOnyufNGUhC",
        "outputId": "c8e70ddc-e067-434e-cf4b-276923c5e907"
      },
      "outputs": [
        {
          "output_type": "execute_result",
          "data": {
            "text/plain": [
              "EUA         1\n",
              "Alemanha    2\n",
              "Italia      5\n",
              "Japão       4\n",
              "dtype: int64"
            ]
          },
          "metadata": {},
          "execution_count": 20
        }
      ],
      "source": [
        "ser2 = pd.Series([1,2,5,4],index = ['EUA', 'Alemanha','Italia', 'Japão'])\n",
        "ser2                                   "
      ]
    },
    {
      "cell_type": "code",
      "execution_count": 21,
      "metadata": {
        "colab": {
          "base_uri": "https://localhost:8080/"
        },
        "id": "EqHCrIHdGUhD",
        "outputId": "9b7c6a10-72ee-4948-c2f8-087b1460f5a0"
      },
      "outputs": [
        {
          "output_type": "execute_result",
          "data": {
            "text/plain": [
              "1"
            ]
          },
          "metadata": {},
          "execution_count": 21
        }
      ],
      "source": [
        "#podemos fazer a selecao por rotulo ou indice\n",
        "\n",
        "ser1['EUA']"
      ]
    },
    {
      "cell_type": "markdown",
      "metadata": {
        "id": "ZgPUmHpsGUhD"
      },
      "source": [
        "As operações também são feitas com base no índice:\n",
        "\n",
        "Se series são iguais do ponto de vista de rótulo podemos somá-las diretamente,\n",
        "\n",
        "se eles tem diferentes rótulos o programa vai somá-las mas, aparecerá um erro(NaN)"
      ]
    },
    {
      "cell_type": "code",
      "execution_count": null,
      "metadata": {
        "id": "PBUqXgNdGUhE",
        "outputId": "7aa8b2f5-40c0-4d89-c9fe-9a0edde917b5"
      },
      "outputs": [
        {
          "data": {
            "text/plain": [
              "Alemanha    4.0\n",
              "EUA         2.0\n",
              "Italia      NaN\n",
              "Japão       8.0\n",
              "USSR        NaN\n",
              "dtype: float64"
            ]
          },
          "execution_count": 22,
          "metadata": {},
          "output_type": "execute_result"
        }
      ],
      "source": [
        "ser1 + ser2"
      ]
    },
    {
      "cell_type": "markdown",
      "metadata": {
        "id": "1P9zazr_GUhE"
      },
      "source": [
        "Vamos parar aqui por enquanto e passar para a DataFrames, que expandirá o conceito da Serie!"
      ]
    }
  ],
  "metadata": {
    "kernelspec": {
      "display_name": "Python 3",
      "language": "python",
      "name": "python3"
    },
    "language_info": {
      "codemirror_mode": {
        "name": "ipython",
        "version": 3
      },
      "file_extension": ".py",
      "mimetype": "text/x-python",
      "name": "python",
      "nbconvert_exporter": "python",
      "pygments_lexer": "ipython3",
      "version": "3.6.1"
    },
    "colab": {
      "name": "Pandas_Series.ipynb",
      "provenance": [],
      "include_colab_link": true
    }
  },
  "nbformat": 4,
  "nbformat_minor": 0
}